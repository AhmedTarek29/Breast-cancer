{
 "cells": [
  {
   "cell_type": "code",
   "execution_count": 3,
   "metadata": {
    "collapsed": true
   },
   "outputs": [],
   "source": [
    "\n",
    "import os\n",
    "import sys\n",
    "import random\n",
    "\n",
    "import numpy as np\n",
    "import pandas as pd\n",
    "#import tensorflow as tf\n",
    "\n",
    "\n",
    "import matplotlib.pyplot as plt\n",
    "import matplotlib.image as mpimg\n",
    "#import cv2\n",
    "\n",
    "#from keras.preprocessing.image import ImageDataGenerator, array_to_img, img_to_array, load_img\n",
    "#from keras import layers\n",
    "#from keras.layers import Input, BatchNormalization, Activation, Dense, Dropout\n",
    "from sklearn.model_selection import train_test_split\n",
    "#from keras.callbacks import EarlyStopping, ModelCheckpoint, ReduceLROnPlateau\n",
    "#from tensorflow.keras.optimizers import SGD, schedules, Adam\n",
    "#from keras.layers.convolutional import Conv2D, Conv2DTranspose\n",
    "#from keras.layers.pooling import MaxPooling2D, GlobalMaxPool2D\n",
    "#from keras.layers.merge import concatenate, add\n",
    "#from keras.models import Model, load_model\n",
    "#from tensorflow.python.keras import losses"
   ]
  },
  {
   "cell_type": "markdown",
   "metadata": {
    "collapsed": false
   },
   "source": [
    "# Step 1: Load Dataset\n"
   ]
  },
  {
   "cell_type": "code",
   "execution_count": 4,
   "metadata": {
    "collapsed": false
   },
   "outputs": [],
   "source": [
    "image_height = 256\n",
    "image_width = 256\n",
    "dpath = \"E:/Faculty of Computer and artifical intelligence/First semister 4/Image Proccesing/DataSet/archive/Dataset_BUSI_with_GT/\"\n",
    "classes = ['benign', 'malignant', 'normal']"
   ]
  },
  {
   "cell_type": "code",
   "execution_count": 5,
   "metadata": {
    "collapsed": false
   },
   "outputs": [],
   "source": [
    "data = {'image' : [],\n",
    "        'mask' : []}\n"
   ]
  },
  {
   "cell_type": "code",
   "execution_count": 6,
   "metadata": {
    "collapsed": false
   },
   "outputs": [],
   "source": [
    "def load_data(path, data_obj, class_name):\n",
    "    img_names_list = os.listdir(path+class_name)\n",
    "    image_names = []\n",
    "    mask_names = []\n",
    "    names_truncated = []\n",
    "\n",
    "    for i in range(len(img_names_list)):\n",
    "        names_truncated.append(img_names_list[i].split(')')[0])\n",
    "\n",
    "    names_truncated = list(set(names_truncated))\n",
    "\n",
    "    for i in range(len(names_truncated)):\n",
    "        image_names.append(names_truncated[i]+').png')\n",
    "        mask_names.append(names_truncated[i]+')_mask.png')\n",
    "\n",
    "    data_obj = preprocess_data(image_names, mask_names, image_width, image_height, path, class_name, data_obj)\n",
    "\n",
    "\n",
    "    return data_obj\n"
   ]
  },
  {
   "cell_type": "markdown",
   "metadata": {
    "collapsed": false
   },
   "source": [
    "# Step 2: Data Preprocessing"
   ]
  },
  {
   "cell_type": "code",
   "execution_count": 7,
   "metadata": {
    "collapsed": false
   },
   "outputs": [],
   "source": [
    "\n",
    "def preprocess_data(image_names, mask_names, img_width, img_height, dpath, dclass, data_obj):\n",
    "    for index in range (len(image_names)):\n",
    "\n",
    "        image_path = dpath+'/'+dclass+'/'+ image_names[index]\n",
    "        mask_path = dpath+'/'+dclass+'/'+ mask_names[index]\n",
    "\n",
    "        x = cv2.imread(image_path, cv2.IMREAD_COLOR)\n",
    "        x = cv2.cvtColor(x, cv2.COLOR_BGR2RGB)\n",
    "        x = np.round(cv2.resize(x, (image_height, image_width)))\n",
    "        x.dtype = np.uint8\n",
    "        y = cv2.imread(mask_path, cv2.IMREAD_GRAYSCALE)\n",
    "        y = cv2.resize(y, (image_height, image_width))\n",
    "\n",
    "        x= x/255.0\n",
    "        y= y/255.0\n",
    "        data_obj['image'].append(x)\n",
    "        data_obj['mask'].append(y)\n",
    "\n",
    "    return data_obj"
   ]
  },
  {
   "cell_type": "code",
   "execution_count": 2,
   "metadata": {
    "collapsed": false
   },
   "outputs": [
    {
     "ename": "NameError",
     "evalue": "name 'load_data' is not defined",
     "output_type": "error",
     "traceback": [
      "\u001B[1;31m---------------------------------------------------------------------------\u001B[0m",
      "\u001B[1;31mNameError\u001B[0m                                 Traceback (most recent call last)",
      "\u001B[1;32m~\\AppData\\Local\\Temp\\ipykernel_11036\\77416595.py\u001B[0m in \u001B[0;36m<module>\u001B[1;34m\u001B[0m\n\u001B[1;32m----> 1\u001B[1;33m \u001B[0mdata\u001B[0m \u001B[1;33m=\u001B[0m \u001B[0mload_data\u001B[0m\u001B[1;33m(\u001B[0m\u001B[0mdpath\u001B[0m\u001B[1;33m,\u001B[0m \u001B[0mdata\u001B[0m\u001B[1;33m,\u001B[0m \u001B[0mclasses\u001B[0m\u001B[1;33m[\u001B[0m\u001B[1;36m0\u001B[0m\u001B[1;33m]\u001B[0m\u001B[1;33m)\u001B[0m\u001B[1;33m\u001B[0m\u001B[1;33m\u001B[0m\u001B[0m\n\u001B[0m\u001B[0;32m      2\u001B[0m \u001B[0mln\u001B[0m \u001B[1;33m=\u001B[0m \u001B[0mlen\u001B[0m\u001B[1;33m(\u001B[0m\u001B[0mdata\u001B[0m\u001B[1;33m[\u001B[0m\u001B[1;34m'image'\u001B[0m\u001B[1;33m]\u001B[0m\u001B[1;33m)\u001B[0m\u001B[1;33m\u001B[0m\u001B[1;33m\u001B[0m\u001B[0m\n\u001B[0;32m      3\u001B[0m \u001B[0mprint\u001B[0m\u001B[1;33m(\u001B[0m\u001B[1;34m\"Number of benign tumor images\"\u001B[0m\u001B[1;33m,\u001B[0m \u001B[0mln\u001B[0m\u001B[1;33m)\u001B[0m\u001B[1;33m\u001B[0m\u001B[1;33m\u001B[0m\u001B[0m\n\u001B[0;32m      4\u001B[0m \u001B[0mdata\u001B[0m \u001B[1;33m=\u001B[0m \u001B[0mload_data\u001B[0m\u001B[1;33m(\u001B[0m\u001B[0mdpath\u001B[0m\u001B[1;33m,\u001B[0m \u001B[0mdata\u001B[0m\u001B[1;33m,\u001B[0m \u001B[0mclasses\u001B[0m\u001B[1;33m[\u001B[0m\u001B[1;36m1\u001B[0m\u001B[1;33m]\u001B[0m\u001B[1;33m)\u001B[0m\u001B[1;33m\u001B[0m\u001B[1;33m\u001B[0m\u001B[0m\n\u001B[0;32m      5\u001B[0m \u001B[0mprint\u001B[0m\u001B[1;33m(\u001B[0m\u001B[1;34m\"Number of malignant tumor images\"\u001B[0m\u001B[1;33m,\u001B[0m \u001B[0mlen\u001B[0m\u001B[1;33m(\u001B[0m\u001B[0mdata\u001B[0m\u001B[1;33m[\u001B[0m\u001B[1;34m'image'\u001B[0m\u001B[1;33m]\u001B[0m\u001B[1;33m)\u001B[0m\u001B[1;33m-\u001B[0m\u001B[0mln\u001B[0m\u001B[1;33m)\u001B[0m\u001B[1;33m\u001B[0m\u001B[1;33m\u001B[0m\u001B[0m\n",
      "\u001B[1;31mNameError\u001B[0m: name 'load_data' is not defined"
     ]
    }
   ],
   "source": [
    "data = load_data(dpath, data, classes[0])\n",
    "ln = len(data['image'])\n",
    "print(\"Number of benign tumor images\", ln)\n",
    "data = load_data(dpath, data, classes[1])\n",
    "print(\"Number of malignant tumor images\", len(data['image'])-ln)\n",
    "print(\"Total images for segmentation\", len(data['image']))"
   ]
  },
  {
   "attachments": {},
   "cell_type": "markdown",
   "metadata": {},
   "source": [
    "# Visualization"
   ]
  },
  {
   "cell_type": "code",
   "execution_count": null,
   "metadata": {},
   "outputs": [],
   "source": [
    "def visualize_example(data, index = None):\n",
    "    if index is None:\n",
    "        index = random.randint(0, len(data['image']))\n",
    "    X = data['image']\n",
    "    y = data['mask']\n",
    "    has_mask = y[index].max() > 0\n",
    "\n",
    "    fig, ax = plt.subplots(1, 2, figsize=(20, 10))\n",
    "    ax[0].imshow(X[index])\n",
    "    if has_mask:\n",
    "        ax[0].contour(y[index].squeeze(), colors='k', levels=[0.5])\n",
    "    ax[0].set_title('Image')\n",
    "\n",
    "    ax[1].imshow(y[index].squeeze())\n",
    "    ax[1].set_title('Mask')\n"
   ]
  },
  {
   "cell_type": "code",
   "execution_count": null,
   "metadata": {},
   "outputs": [],
   "source": [
    "visualize_example(data)"
   ]
  },
  {
   "cell_type": "code",
   "execution_count": null,
   "metadata": {},
   "outputs": [],
   "source": [
    "data['image'] = np.array(data['image'])\n",
    "data['image'].shape\n"
   ]
  },
  {
   "cell_type": "code",
   "execution_count": null,
   "metadata": {},
   "outputs": [],
   "source": [
    "data['mask'] = np.array(data['mask'])\n",
    "data['mask'] =  np.expand_dims(data['mask'], -1)\n",
    "data['mask'].shape\n"
   ]
  },
  {
   "attachments": {},
   "cell_type": "markdown",
   "metadata": {},
   "source": [
    "# Train-Test Split"
   ]
  },
  {
   "cell_type": "code",
   "execution_count": null,
   "metadata": {},
   "outputs": [],
   "source": [
    "\n",
    "\n",
    "X_train, X_valid, y_train, y_valid = train_test_split(data['image'], data['mask'], test_size=0.2, random_state=42)\n",
    "print(len(X_train), len(y_train), len(X_valid), len(y_valid))"
   ]
  },
  {
   "attachments": {},
   "cell_type": "markdown",
   "metadata": {},
   "source": [
    "# Data Augmentation"
   ]
  },
  {
   "cell_type": "code",
   "execution_count": null,
   "metadata": {},
   "outputs": [],
   "source": [
    "data_gen_args = dict(\n",
    "rotation_range=60,\n",
    "zoom_range=[0.6,1.0],\n",
    "horizontal_flip=True,\n",
    "vertical_flip = True,\n",
    "fill_mode=\"nearest\",\n",
    ")"
   ]
  },
  {
   "cell_type": "code",
   "execution_count": null,
   "metadata": {},
   "outputs": [],
   "source": [
    "image_datagen = ImageDataGenerator(**data_gen_args)\n",
    "mask_datagen = ImageDataGenerator(**data_gen_args)\n",
    "seed = 1"
   ]
  },
  {
   "cell_type": "code",
   "execution_count": null,
   "metadata": {},
   "outputs": [],
   "source": [
    "\n",
    "image_datagen.fit(X_train, augment=True, seed=seed)"
   ]
  },
  {
   "cell_type": "code",
   "execution_count": null,
   "metadata": {},
   "outputs": [],
   "source": [
    "mask_datagen.fit(y_train, augment=True, seed=seed)"
   ]
  },
  {
   "attachments": {},
   "cell_type": "markdown",
   "metadata": {},
   "source": [
    "# Fitting and Creating Train Generator"
   ]
  },
  {
   "cell_type": "code",
   "execution_count": null,
   "metadata": {},
   "outputs": [],
   "source": [
    "image_generator = image_datagen.flow(\n",
    "    X_train,\n",
    "    batch_size = 16,\n",
    "    seed=seed)\n",
    "mask_generator = mask_datagen.flow(\n",
    "    y_train,\n",
    "    batch_size = 16,\n",
    "    seed=seed)"
   ]
  },
  {
   "cell_type": "code",
   "execution_count": null,
   "metadata": {},
   "outputs": [],
   "source": [
    "fig, ax = plt.subplots(nrows=1, ncols=3, figsize=(15,15))\n",
    "for i in range(3):\n",
    "    image = next(image_generator)[0]\n",
    "    ax[i].imshow(image)\n",
    "    ax[i].axis('off')"
   ]
  },
  {
   "cell_type": "code",
   "execution_count": null,
   "metadata": {},
   "outputs": [],
   "source": [
    "\n",
    "fig, ax = plt.subplots(nrows=1, ncols=3, figsize=(15,15))\n",
    "for i in range(3):\n",
    "    image = next(mask_generator)[0]\n",
    "    ax[i].imshow(image)\n",
    "    ax[i].axis('off')"
   ]
  },
  {
   "cell_type": "code",
   "execution_count": null,
   "metadata": {},
   "outputs": [],
   "source": [
    "train_generator = zip(image_generator, mask_generator)\n"
   ]
  },
  {
   "cell_type": "code",
   "execution_count": null,
   "metadata": {},
   "outputs": [],
   "source": [
    "tf.keras.backend.clear_session()"
   ]
  }
 ],
 "metadata": {
  "kernelspec": {
   "display_name": "Python 3",
   "language": "python",
   "name": "python3"
  },
  "language_info": {
   "codemirror_mode": {
    "name": "ipython",
    "version": 3
   },
   "file_extension": ".py",
   "mimetype": "text/x-python",
   "name": "python",
   "nbconvert_exporter": "python",
   "pygments_lexer": "ipython3",
   "version": "3.10.9"
  },
  "vscode": {
   "interpreter": {
    "hash": "5215ef5ecd73d3267310294d8077a6671de723adedd795e0e4ed14c2ac31aae9"
   }
  }
 },
 "nbformat": 4,
 "nbformat_minor": 0
}
